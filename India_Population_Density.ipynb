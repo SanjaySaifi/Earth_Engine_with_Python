{
 "cells": [
  {
   "cell_type": "code",
   "execution_count": 14,
   "metadata": {},
   "outputs": [
    {
     "name": "stdout",
     "output_type": "stream",
     "text": [
      "Requirement already satisfied: geemap in c:\\users\\usar\\anaconda3\\envs\\lab\\lib\\site-packages (0.8.8)\n",
      "Requirement already satisfied: pandas in c:\\users\\usar\\anaconda3\\envs\\lab\\lib\\site-packages (from geemap) (1.2.1)\n",
      "Requirement already satisfied: matplotlib in c:\\users\\usar\\anaconda3\\envs\\lab\\lib\\site-packages (from geemap) (3.3.4)\n",
      "Requirement already satisfied: click in c:\\users\\usar\\anaconda3\\envs\\lab\\lib\\site-packages (from geemap) (7.1.2)\n",
      "Requirement already satisfied: earthengine-api>=0.1.230 in c:\\users\\usar\\anaconda3\\envs\\lab\\lib\\site-packages (from geemap) (0.1.249)\n",
      "Requirement already satisfied: pillow in c:\\users\\usar\\anaconda3\\envs\\lab\\lib\\site-packages (from geemap) (8.1.0)\n",
      "Requirement already satisfied: ipynb-py-convert in c:\\users\\usar\\anaconda3\\envs\\lab\\lib\\site-packages (from geemap) (0.4.6)\n",
      "Requirement already satisfied: pycrs in c:\\users\\usar\\anaconda3\\envs\\lab\\lib\\site-packages (from geemap) (1.0.2)\n",
      "Requirement already satisfied: ipyfilechooser in c:\\users\\usar\\anaconda3\\envs\\lab\\lib\\site-packages (from geemap) (0.4.1)\n",
      "Requirement already satisfied: geeadd>=0.5.1 in c:\\users\\usar\\anaconda3\\envs\\lab\\lib\\site-packages (from geemap) (0.5.3)\n",
      "Requirement already satisfied: bqplot in c:\\users\\usar\\anaconda3\\envs\\lab\\lib\\site-packages (from geemap) (0.12.21)\n",
      "Requirement already satisfied: ipyevents in c:\\users\\usar\\anaconda3\\envs\\lab\\lib\\site-packages (from geemap) (0.8.1)\n",
      "Requirement already satisfied: whitebox in c:\\users\\usar\\anaconda3\\envs\\lab\\lib\\site-packages (from geemap) (1.4.0)\n",
      "Requirement already satisfied: numpy in c:\\users\\usar\\anaconda3\\envs\\lab\\lib\\site-packages (from geemap) (1.19.5)\n",
      "Requirement already satisfied: folium>=0.11.0 in c:\\users\\usar\\anaconda3\\envs\\lab\\lib\\site-packages (from geemap) (0.12.0)\n",
      "Requirement already satisfied: voila in c:\\users\\usar\\anaconda3\\envs\\lab\\lib\\site-packages (from geemap) (0.2.6)\n",
      "Requirement already satisfied: pyshp in c:\\users\\usar\\anaconda3\\envs\\lab\\lib\\site-packages (from geemap) (2.1.3)\n",
      "Requirement already satisfied: geocoder in c:\\users\\usar\\anaconda3\\envs\\lab\\lib\\site-packages (from geemap) (1.38.1)\n",
      "Requirement already satisfied: mss in c:\\users\\usar\\anaconda3\\envs\\lab\\lib\\site-packages (from geemap) (6.1.0)\n",
      "Requirement already satisfied: ipytree in c:\\users\\usar\\anaconda3\\envs\\lab\\lib\\site-packages (from geemap) (0.1.8)\n",
      "Requirement already satisfied: ipyleaflet>=0.13.3 in c:\\users\\usar\\anaconda3\\envs\\lab\\lib\\site-packages (from geemap) (0.13.6)\n",
      "Requirement already satisfied: colour in c:\\users\\usar\\anaconda3\\envs\\lab\\lib\\site-packages (from geemap) (0.1.5)\n",
      "Requirement already satisfied: ffmpeg-python in c:\\users\\usar\\anaconda3\\envs\\lab\\lib\\site-packages (from geemap) (0.2.0)\n",
      "Requirement already satisfied: six in c:\\users\\usar\\anaconda3\\envs\\lab\\lib\\site-packages (from earthengine-api>=0.1.230->geemap) (1.15.0)\n",
      "Requirement already satisfied: future in c:\\users\\usar\\anaconda3\\envs\\lab\\lib\\site-packages (from earthengine-api>=0.1.230->geemap) (0.18.2)\n",
      "Requirement already satisfied: google-auth>=1.4.1 in c:\\users\\usar\\anaconda3\\envs\\lab\\lib\\site-packages (from earthengine-api>=0.1.230->geemap) (1.21.3)\n",
      "Requirement already satisfied: google-cloud-storage in c:\\users\\usar\\anaconda3\\envs\\lab\\lib\\site-packages (from earthengine-api>=0.1.230->geemap) (1.35.0)\n",
      "Requirement already satisfied: google-api-python-client>=1.12.1 in c:\\users\\usar\\anaconda3\\envs\\lab\\lib\\site-packages (from earthengine-api>=0.1.230->geemap) (1.12.8)\n",
      "Requirement already satisfied: httplib2<1dev,>=0.9.2 in c:\\users\\usar\\anaconda3\\envs\\lab\\lib\\site-packages (from earthengine-api>=0.1.230->geemap) (0.18.1)\n",
      "Requirement already satisfied: httplib2shim in c:\\users\\usar\\anaconda3\\envs\\lab\\lib\\site-packages (from earthengine-api>=0.1.230->geemap) (0.0.3)\n",
      "Requirement already satisfied: google-auth-httplib2>=0.0.3 in c:\\users\\usar\\anaconda3\\envs\\lab\\lib\\site-packages (from earthengine-api>=0.1.230->geemap) (0.0.4)\n",
      "Requirement already satisfied: requests in c:\\users\\usar\\anaconda3\\envs\\lab\\lib\\site-packages (from folium>=0.11.0->geemap) (2.25.1)\n",
      "Requirement already satisfied: branca>=0.3.0 in c:\\users\\usar\\anaconda3\\envs\\lab\\lib\\site-packages (from folium>=0.11.0->geemap) (0.4.2)\n",
      "Requirement already satisfied: jinja2>=2.9 in c:\\users\\usar\\anaconda3\\envs\\lab\\lib\\site-packages (from folium>=0.11.0->geemap) (2.11.2)\n",
      "Requirement already satisfied: logzero>=1.5.0 in c:\\users\\usar\\anaconda3\\envs\\lab\\lib\\site-packages (from geeadd>=0.5.1->geemap) (1.6.3)\n",
      "Requirement already satisfied: beautifulsoup4>=4.9.0 in c:\\users\\usar\\anaconda3\\envs\\lab\\lib\\site-packages (from geeadd>=0.5.1->geemap) (4.9.3)\n",
      "Requirement already satisfied: soupsieve>1.2 in c:\\users\\usar\\anaconda3\\envs\\lab\\lib\\site-packages (from beautifulsoup4>=4.9.0->geeadd>=0.5.1->geemap) (2.1)\n",
      "Requirement already satisfied: google-api-core<2dev,>=1.21.0 in c:\\users\\usar\\anaconda3\\envs\\lab\\lib\\site-packages (from google-api-python-client>=1.12.1->earthengine-api>=0.1.230->geemap) (1.25.1)\n",
      "Requirement already satisfied: uritemplate<4dev,>=3.0.0 in c:\\users\\usar\\anaconda3\\envs\\lab\\lib\\site-packages (from google-api-python-client>=1.12.1->earthengine-api>=0.1.230->geemap) (3.0.1)\n",
      "Requirement already satisfied: googleapis-common-protos<2.0dev,>=1.6.0 in c:\\users\\usar\\anaconda3\\envs\\lab\\lib\\site-packages (from google-api-core<2dev,>=1.21.0->google-api-python-client>=1.12.1->earthengine-api>=0.1.230->geemap) (1.52.0)\n",
      "Requirement already satisfied: setuptools>=40.3.0 in c:\\users\\usar\\anaconda3\\envs\\lab\\lib\\site-packages (from google-api-core<2dev,>=1.21.0->google-api-python-client>=1.12.1->earthengine-api>=0.1.230->geemap) (53.0.0)\n",
      "Requirement already satisfied: protobuf>=3.12.0 in c:\\users\\usar\\anaconda3\\envs\\lab\\lib\\site-packages (from google-api-core<2dev,>=1.21.0->google-api-python-client>=1.12.1->earthengine-api>=0.1.230->geemap) (3.14.0)\n",
      "Requirement already satisfied: pytz in c:\\users\\usar\\anaconda3\\envs\\lab\\lib\\site-packages (from google-api-core<2dev,>=1.21.0->google-api-python-client>=1.12.1->earthengine-api>=0.1.230->geemap) (2020.5)\n",
      "Requirement already satisfied: rsa<5,>=3.1.4 in c:\\users\\usar\\anaconda3\\envs\\lab\\lib\\site-packages (from google-auth>=1.4.1->earthengine-api>=0.1.230->geemap) (4.7)\n",
      "Requirement already satisfied: pyasn1-modules>=0.2.1 in c:\\users\\usar\\anaconda3\\envs\\lab\\lib\\site-packages (from google-auth>=1.4.1->earthengine-api>=0.1.230->geemap) (0.2.8)\n",
      "Requirement already satisfied: cachetools<5.0,>=2.0.0 in c:\\users\\usar\\anaconda3\\envs\\lab\\lib\\site-packages (from google-auth>=1.4.1->earthengine-api>=0.1.230->geemap) (4.2.1)\n",
      "Requirement already satisfied: ipywidgets<8,>=7.6.0 in c:\\users\\usar\\anaconda3\\envs\\lab\\lib\\site-packages (from ipyleaflet>=0.13.3->geemap) (7.6.3)\n",
      "Requirement already satisfied: traittypes<3,>=0.2.1 in c:\\users\\usar\\anaconda3\\envs\\lab\\lib\\site-packages (from ipyleaflet>=0.13.3->geemap) (0.2.1)\n",
      "Requirement already satisfied: shapely in c:\\users\\usar\\anaconda3\\envs\\lab\\lib\\site-packages (from ipyleaflet>=0.13.3->geemap) (1.7.1)\n",
      "Requirement already satisfied: jupyterlab-widgets>=1.0.0 in c:\\users\\usar\\anaconda3\\envs\\lab\\lib\\site-packages (from ipywidgets<8,>=7.6.0->ipyleaflet>=0.13.3->geemap) (1.0.0)\n",
      "Requirement already satisfied: ipython>=4.0.0 in c:\\users\\usar\\anaconda3\\envs\\lab\\lib\\site-packages (from ipywidgets<8,>=7.6.0->ipyleaflet>=0.13.3->geemap) (7.19.0)\n",
      "Requirement already satisfied: nbformat>=4.2.0 in c:\\users\\usar\\anaconda3\\envs\\lab\\lib\\site-packages (from ipywidgets<8,>=7.6.0->ipyleaflet>=0.13.3->geemap) (5.0.8)\n",
      "Requirement already satisfied: widgetsnbextension~=3.5.0 in c:\\users\\usar\\anaconda3\\envs\\lab\\lib\\site-packages (from ipywidgets<8,>=7.6.0->ipyleaflet>=0.13.3->geemap) (3.5.1)\n",
      "Requirement already satisfied: ipykernel>=4.5.1 in c:\\users\\usar\\anaconda3\\envs\\lab\\lib\\site-packages (from ipywidgets<8,>=7.6.0->ipyleaflet>=0.13.3->geemap) (5.4.2)\n",
      "Requirement already satisfied: traitlets>=4.3.1 in c:\\users\\usar\\anaconda3\\envs\\lab\\lib\\site-packages (from ipywidgets<8,>=7.6.0->ipyleaflet>=0.13.3->geemap) (5.0.5)\n",
      "Requirement already satisfied: tornado>=4.2 in c:\\users\\usar\\anaconda3\\envs\\lab\\lib\\site-packages (from ipykernel>=4.5.1->ipywidgets<8,>=7.6.0->ipyleaflet>=0.13.3->geemap) (6.1)\n",
      "Requirement already satisfied: jupyter-client in c:\\users\\usar\\anaconda3\\envs\\lab\\lib\\site-packages (from ipykernel>=4.5.1->ipywidgets<8,>=7.6.0->ipyleaflet>=0.13.3->geemap) (6.1.7)\n",
      "Requirement already satisfied: decorator in c:\\users\\usar\\anaconda3\\envs\\lab\\lib\\site-packages (from ipython>=4.0.0->ipywidgets<8,>=7.6.0->ipyleaflet>=0.13.3->geemap) (4.4.2)\n",
      "Requirement already satisfied: colorama in c:\\users\\usar\\anaconda3\\envs\\lab\\lib\\site-packages (from ipython>=4.0.0->ipywidgets<8,>=7.6.0->ipyleaflet>=0.13.3->geemap) (0.4.4)\n",
      "Requirement already satisfied: prompt-toolkit!=3.0.0,!=3.0.1,<3.1.0,>=2.0.0 in c:\\users\\usar\\anaconda3\\envs\\lab\\lib\\site-packages (from ipython>=4.0.0->ipywidgets<8,>=7.6.0->ipyleaflet>=0.13.3->geemap) (3.0.9)\n",
      "Requirement already satisfied: backcall in c:\\users\\usar\\anaconda3\\envs\\lab\\lib\\site-packages (from ipython>=4.0.0->ipywidgets<8,>=7.6.0->ipyleaflet>=0.13.3->geemap) (0.2.0)\n",
      "Note: you may need to restart the kernel to use updated packages.Requirement already satisfied: pickleshare in c:\\users\\usar\\anaconda3\\envs\\lab\\lib\\site-packages (from ipython>=4.0.0->ipywidgets<8,>=7.6.0->ipyleaflet>=0.13.3->geemap) (0.7.5)\n",
      "\n",
      "Requirement already satisfied: jedi>=0.10 in c:\\users\\usar\\anaconda3\\envs\\lab\\lib\\site-packages (from ipython>=4.0.0->ipywidgets<8,>=7.6.0->ipyleaflet>=0.13.3->geemap) (0.17.2)\n",
      "Requirement already satisfied: pygments in c:\\users\\usar\\anaconda3\\envs\\lab\\lib\\site-packages (from ipython>=4.0.0->ipywidgets<8,>=7.6.0->ipyleaflet>=0.13.3->geemap) (2.7.3)\n",
      "Requirement already satisfied: parso<0.8.0,>=0.7.0 in c:\\users\\usar\\anaconda3\\envs\\lab\\lib\\site-packages (from jedi>=0.10->ipython>=4.0.0->ipywidgets<8,>=7.6.0->ipyleaflet>=0.13.3->geemap) (0.7.0)\n",
      "Requirement already satisfied: MarkupSafe>=0.23 in c:\\users\\usar\\anaconda3\\envs\\lab\\lib\\site-packages (from jinja2>=2.9->folium>=0.11.0->geemap) (1.1.1)\n"
     ]
    },
    {
     "name": "stdout",
     "output_type": "stream",
     "text": [
      "Requirement already satisfied: jupyter-core in c:\\users\\usar\\anaconda3\\envs\\lab\\lib\\site-packages (from nbformat>=4.2.0->ipywidgets<8,>=7.6.0->ipyleaflet>=0.13.3->geemap) (4.7.0)\n",
      "Requirement already satisfied: jsonschema!=2.5.0,>=2.4 in c:\\users\\usar\\anaconda3\\envs\\lab\\lib\\site-packages (from nbformat>=4.2.0->ipywidgets<8,>=7.6.0->ipyleaflet>=0.13.3->geemap) (3.2.0)\n",
      "Requirement already satisfied: ipython-genutils in c:\\users\\usar\\anaconda3\\envs\\lab\\lib\\site-packages (from nbformat>=4.2.0->ipywidgets<8,>=7.6.0->ipyleaflet>=0.13.3->geemap) (0.2.0)\n",
      "Requirement already satisfied: pyrsistent>=0.14.0 in c:\\users\\usar\\anaconda3\\envs\\lab\\lib\\site-packages (from jsonschema!=2.5.0,>=2.4->nbformat>=4.2.0->ipywidgets<8,>=7.6.0->ipyleaflet>=0.13.3->geemap) (0.17.3)\n",
      "Requirement already satisfied: attrs>=17.4.0 in c:\\users\\usar\\anaconda3\\envs\\lab\\lib\\site-packages (from jsonschema!=2.5.0,>=2.4->nbformat>=4.2.0->ipywidgets<8,>=7.6.0->ipyleaflet>=0.13.3->geemap) (20.3.0)\n",
      "Requirement already satisfied: wcwidth in c:\\users\\usar\\anaconda3\\envs\\lab\\lib\\site-packages (from prompt-toolkit!=3.0.0,!=3.0.1,<3.1.0,>=2.0.0->ipython>=4.0.0->ipywidgets<8,>=7.6.0->ipyleaflet>=0.13.3->geemap) (0.2.5)\n",
      "Requirement already satisfied: pyasn1<0.5.0,>=0.4.6 in c:\\users\\usar\\anaconda3\\envs\\lab\\lib\\site-packages (from pyasn1-modules>=0.2.1->google-auth>=1.4.1->earthengine-api>=0.1.230->geemap) (0.4.8)\n",
      "Requirement already satisfied: chardet<5,>=3.0.2 in c:\\users\\usar\\anaconda3\\envs\\lab\\lib\\site-packages (from requests->folium>=0.11.0->geemap) (4.0.0)\n",
      "Requirement already satisfied: idna<3,>=2.5 in c:\\users\\usar\\anaconda3\\envs\\lab\\lib\\site-packages (from requests->folium>=0.11.0->geemap) (2.10)\n",
      "Requirement already satisfied: certifi>=2017.4.17 in c:\\users\\usar\\anaconda3\\envs\\lab\\lib\\site-packages (from requests->folium>=0.11.0->geemap) (2020.12.5)\n",
      "Requirement already satisfied: urllib3<1.27,>=1.21.1 in c:\\users\\usar\\anaconda3\\envs\\lab\\lib\\site-packages (from requests->folium>=0.11.0->geemap) (1.26.2)\n",
      "Requirement already satisfied: notebook>=4.4.1 in c:\\users\\usar\\anaconda3\\envs\\lab\\lib\\site-packages (from widgetsnbextension~=3.5.0->ipywidgets<8,>=7.6.0->ipyleaflet>=0.13.3->geemap) (6.1.6)\n",
      "Requirement already satisfied: argon2-cffi in c:\\users\\usar\\anaconda3\\envs\\lab\\lib\\site-packages (from notebook>=4.4.1->widgetsnbextension~=3.5.0->ipywidgets<8,>=7.6.0->ipyleaflet>=0.13.3->geemap) (20.1.0)\n",
      "Requirement already satisfied: prometheus-client in c:\\users\\usar\\anaconda3\\envs\\lab\\lib\\site-packages (from notebook>=4.4.1->widgetsnbextension~=3.5.0->ipywidgets<8,>=7.6.0->ipyleaflet>=0.13.3->geemap) (0.9.0)\n",
      "Requirement already satisfied: nbconvert in c:\\users\\usar\\anaconda3\\envs\\lab\\lib\\site-packages (from notebook>=4.4.1->widgetsnbextension~=3.5.0->ipywidgets<8,>=7.6.0->ipyleaflet>=0.13.3->geemap) (6.0.7)\n",
      "Requirement already satisfied: Send2Trash in c:\\users\\usar\\anaconda3\\envs\\lab\\lib\\site-packages (from notebook>=4.4.1->widgetsnbextension~=3.5.0->ipywidgets<8,>=7.6.0->ipyleaflet>=0.13.3->geemap) (1.5.0)\n",
      "Requirement already satisfied: pyzmq>=17 in c:\\users\\usar\\anaconda3\\envs\\lab\\lib\\site-packages (from notebook>=4.4.1->widgetsnbextension~=3.5.0->ipywidgets<8,>=7.6.0->ipyleaflet>=0.13.3->geemap) (20.0.0)\n",
      "Requirement already satisfied: terminado>=0.8.3 in c:\\users\\usar\\anaconda3\\envs\\lab\\lib\\site-packages (from notebook>=4.4.1->widgetsnbextension~=3.5.0->ipywidgets<8,>=7.6.0->ipyleaflet>=0.13.3->geemap) (0.9.2)\n",
      "Requirement already satisfied: python-dateutil>=2.1 in c:\\users\\usar\\anaconda3\\envs\\lab\\lib\\site-packages (from jupyter-client->ipykernel>=4.5.1->ipywidgets<8,>=7.6.0->ipyleaflet>=0.13.3->geemap) (2.8.1)\n",
      "Requirement already satisfied: pywin32>=1.0 in c:\\users\\usar\\anaconda3\\envs\\lab\\lib\\site-packages (from jupyter-core->nbformat>=4.2.0->ipywidgets<8,>=7.6.0->ipyleaflet>=0.13.3->geemap) (228)\n",
      "Requirement already satisfied: pywinpty>=0.5 in c:\\users\\usar\\anaconda3\\envs\\lab\\lib\\site-packages (from terminado>=0.8.3->notebook>=4.4.1->widgetsnbextension~=3.5.0->ipywidgets<8,>=7.6.0->ipyleaflet>=0.13.3->geemap) (0.5.7)\n",
      "Requirement already satisfied: cffi>=1.0.0 in c:\\users\\usar\\anaconda3\\envs\\lab\\lib\\site-packages (from argon2-cffi->notebook>=4.4.1->widgetsnbextension~=3.5.0->ipywidgets<8,>=7.6.0->ipyleaflet>=0.13.3->geemap) (1.14.4)\n",
      "Requirement already satisfied: pycparser in c:\\users\\usar\\anaconda3\\envs\\lab\\lib\\site-packages (from cffi>=1.0.0->argon2-cffi->notebook>=4.4.1->widgetsnbextension~=3.5.0->ipywidgets<8,>=7.6.0->ipyleaflet>=0.13.3->geemap) (2.20)\n",
      "Requirement already satisfied: ratelim in c:\\users\\usar\\anaconda3\\envs\\lab\\lib\\site-packages (from geocoder->geemap) (0.1.6)\n",
      "Requirement already satisfied: google-cloud-core<2.0dev,>=1.4.1 in c:\\users\\usar\\anaconda3\\envs\\lab\\lib\\site-packages (from google-cloud-storage->earthengine-api>=0.1.230->geemap) (1.5.0)\n",
      "Requirement already satisfied: google-resumable-media<2.0dev,>=1.2.0 in c:\\users\\usar\\anaconda3\\envs\\lab\\lib\\site-packages (from google-cloud-storage->earthengine-api>=0.1.230->geemap) (1.2.0)\n",
      "Requirement already satisfied: google-crc32c<2.0dev,>=1.0 in c:\\users\\usar\\anaconda3\\envs\\lab\\lib\\site-packages (from google-resumable-media<2.0dev,>=1.2.0->google-cloud-storage->earthengine-api>=0.1.230->geemap) (1.1.2)\n",
      "Requirement already satisfied: cycler>=0.10 in c:\\users\\usar\\anaconda3\\envs\\lab\\lib\\site-packages (from matplotlib->geemap) (0.10.0)\n",
      "Requirement already satisfied: pyparsing!=2.0.4,!=2.1.2,!=2.1.6,>=2.0.3 in c:\\users\\usar\\anaconda3\\envs\\lab\\lib\\site-packages (from matplotlib->geemap) (2.4.7)\n",
      "Requirement already satisfied: kiwisolver>=1.0.1 in c:\\users\\usar\\anaconda3\\envs\\lab\\lib\\site-packages (from matplotlib->geemap) (1.3.1)\n",
      "Requirement already satisfied: pandocfilters>=1.4.1 in c:\\users\\usar\\anaconda3\\envs\\lab\\lib\\site-packages (from nbconvert->notebook>=4.4.1->widgetsnbextension~=3.5.0->ipywidgets<8,>=7.6.0->ipyleaflet>=0.13.3->geemap) (1.4.2)\n",
      "Requirement already satisfied: defusedxml in c:\\users\\usar\\anaconda3\\envs\\lab\\lib\\site-packages (from nbconvert->notebook>=4.4.1->widgetsnbextension~=3.5.0->ipywidgets<8,>=7.6.0->ipyleaflet>=0.13.3->geemap) (0.6.0)\n",
      "Requirement already satisfied: testpath in c:\\users\\usar\\anaconda3\\envs\\lab\\lib\\site-packages (from nbconvert->notebook>=4.4.1->widgetsnbextension~=3.5.0->ipywidgets<8,>=7.6.0->ipyleaflet>=0.13.3->geemap) (0.4.4)\n",
      "Requirement already satisfied: mistune<2,>=0.8.1 in c:\\users\\usar\\anaconda3\\envs\\lab\\lib\\site-packages (from nbconvert->notebook>=4.4.1->widgetsnbextension~=3.5.0->ipywidgets<8,>=7.6.0->ipyleaflet>=0.13.3->geemap) (0.8.4)\n",
      "Requirement already satisfied: nbclient<0.6.0,>=0.5.0 in c:\\users\\usar\\anaconda3\\envs\\lab\\lib\\site-packages (from nbconvert->notebook>=4.4.1->widgetsnbextension~=3.5.0->ipywidgets<8,>=7.6.0->ipyleaflet>=0.13.3->geemap) (0.5.1)\n",
      "Requirement already satisfied: bleach in c:\\users\\usar\\anaconda3\\envs\\lab\\lib\\site-packages (from nbconvert->notebook>=4.4.1->widgetsnbextension~=3.5.0->ipywidgets<8,>=7.6.0->ipyleaflet>=0.13.3->geemap) (3.2.1)\n",
      "Requirement already satisfied: entrypoints>=0.2.2 in c:\\users\\usar\\anaconda3\\envs\\lab\\lib\\site-packages (from nbconvert->notebook>=4.4.1->widgetsnbextension~=3.5.0->ipywidgets<8,>=7.6.0->ipyleaflet>=0.13.3->geemap) (0.3)\n",
      "Requirement already satisfied: jupyterlab-pygments in c:\\users\\usar\\anaconda3\\envs\\lab\\lib\\site-packages (from nbconvert->notebook>=4.4.1->widgetsnbextension~=3.5.0->ipywidgets<8,>=7.6.0->ipyleaflet>=0.13.3->geemap) (0.1.2)\n",
      "Requirement already satisfied: nest-asyncio in c:\\users\\usar\\anaconda3\\envs\\lab\\lib\\site-packages (from nbclient<0.6.0,>=0.5.0->nbconvert->notebook>=4.4.1->widgetsnbextension~=3.5.0->ipywidgets<8,>=7.6.0->ipyleaflet>=0.13.3->geemap) (1.4.3)\n",
      "Requirement already satisfied: async-generator in c:\\users\\usar\\anaconda3\\envs\\lab\\lib\\site-packages (from nbclient<0.6.0,>=0.5.0->nbconvert->notebook>=4.4.1->widgetsnbextension~=3.5.0->ipywidgets<8,>=7.6.0->ipyleaflet>=0.13.3->geemap) (1.10)\n",
      "Requirement already satisfied: packaging in c:\\users\\usar\\anaconda3\\envs\\lab\\lib\\site-packages (from bleach->nbconvert->notebook>=4.4.1->widgetsnbextension~=3.5.0->ipywidgets<8,>=7.6.0->ipyleaflet>=0.13.3->geemap) (20.8)\n",
      "Requirement already satisfied: webencodings in c:\\users\\usar\\anaconda3\\envs\\lab\\lib\\site-packages (from bleach->nbconvert->notebook>=4.4.1->widgetsnbextension~=3.5.0->ipywidgets<8,>=7.6.0->ipyleaflet>=0.13.3->geemap) (0.5.1)\n",
      "Requirement already satisfied: jupyter-server<2.0.0,>=0.3.0 in c:\\users\\usar\\anaconda3\\envs\\lab\\lib\\site-packages (from voila->geemap) (1.1.4)\n",
      "Requirement already satisfied: anyio>=2.0.2 in c:\\users\\usar\\anaconda3\\envs\\lab\\lib\\site-packages (from jupyter-server<2.0.0,>=0.3.0->voila->geemap) (2.0.2)\n",
      "Requirement already satisfied: sniffio>=1.1 in c:\\users\\usar\\anaconda3\\envs\\lab\\lib\\site-packages (from anyio>=2.0.2->jupyter-server<2.0.0,>=0.3.0->voila->geemap) (1.2.0)\n"
     ]
    }
   ],
   "source": [
    "pip install geemap"
   ]
  },
  {
   "cell_type": "code",
   "execution_count": 15,
   "metadata": {},
   "outputs": [],
   "source": [
    "import ee\n",
    "import geemap"
   ]
  },
  {
   "cell_type": "code",
   "execution_count": 30,
   "metadata": {},
   "outputs": [],
   "source": [
    "Map = geemap.Map()\n",
    "#Map"
   ]
  },
  {
   "cell_type": "code",
   "execution_count": 29,
   "metadata": {},
   "outputs": [],
   "source": [
    "#//POPULATION DENSITY MAP\n",
    "#//ADD MAP CENTRE AND ZOOM LEVEL\n",
    "Map.setCenter(78,28, 5);\n",
    "\n",
    "#//ADD REGION OF INTEREST\n",
    "roi =ee.Geometry.Polygon(\n",
    "        [[[68.72381366825171, 36.668322467407435],\n",
    "          [68.72381366825171, 9.535630411689576],\n",
    "          [96.49725116825171, 9.535630411689576],\n",
    "          [96.49725116825171, 36.668322467407435]]]);\n",
    "\n",
    "#// ADD DATA \n",
    "image = ee.ImageCollection(\"WorldPop/GP/100m/pop\");\n",
    "#// CLIP DATA TO ROI\n",
    "clip=image.mean().clip(roi);\n",
    "\n",
    "#// ADD COLOR PALETTE\n",
    "band = {\n",
    "  \n",
    "       'min': 0.0,\n",
    "       'max': 50.0,\n",
    "   'palette': ['black','lightgreen','#30ff91','#18ff1a', 'green', 'white']\n",
    "};\n",
    "\n",
    "#// ADD MAP TO CONSOLE\n",
    "Map.addLayer(clip, band, 'Population Map of India ');"
   ]
  },
  {
   "cell_type": "code",
   "execution_count": 24,
   "metadata": {},
   "outputs": [
    {
     "data": {
      "application/vnd.jupyter.widget-view+json": {
       "model_id": "c1d7a9d852d74da3a33af5668ec45088",
       "version_major": 2,
       "version_minor": 0
      },
      "text/plain": [
       "Map(bottom=879.0, center=[28, 78], controls=(WidgetControl(options=['position', 'transparent_bg'], widget=HBox…"
      ]
     },
     "metadata": {},
     "output_type": "display_data"
    }
   ],
   "source": [
    "Map.addLayerControl() \n",
    "Map"
   ]
  },
  {
   "cell_type": "code",
   "execution_count": null,
   "metadata": {},
   "outputs": [],
   "source": []
  }
 ],
 "metadata": {
  "kernelspec": {
   "display_name": "Python 3",
   "language": "python",
   "name": "python3"
  },
  "language_info": {
   "codemirror_mode": {
    "name": "ipython",
    "version": 3
   },
   "file_extension": ".py",
   "mimetype": "text/x-python",
   "name": "python",
   "nbconvert_exporter": "python",
   "pygments_lexer": "ipython3",
   "version": "3.8.6"
  }
 },
 "nbformat": 4,
 "nbformat_minor": 4
}
