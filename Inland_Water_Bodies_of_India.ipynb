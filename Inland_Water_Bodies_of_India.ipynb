{
 "cells": [
  {
   "cell_type": "markdown",
   "metadata": {},
   "source": [
    "# Inland Water Bodies\n",
    "#The Global Inland Water dataset showing inland surface water bodies such as lakes, rivers, and reservoirs."
   ]
  },
  {
   "cell_type": "code",
   "execution_count": 1,
   "metadata": {},
   "outputs": [],
   "source": [
    "#install geemap\n",
    "#pip install geemap"
   ]
  },
  {
   "cell_type": "code",
   "execution_count": 2,
   "metadata": {},
   "outputs": [],
   "source": [
    "#import libraries\n",
    "import ee\n",
    "import geemap"
   ]
  },
  {
   "cell_type": "code",
   "execution_count": 3,
   "metadata": {},
   "outputs": [],
   "source": [
    "Map = geemap.Map()\n",
    "#Map"
   ]
  },
  {
   "cell_type": "code",
   "execution_count": 7,
   "metadata": {},
   "outputs": [],
   "source": [
    "## Inland Water Bodies\n",
    "#//ADD MAP CENTRE AND ZOOM LEVEL\n",
    "Map.setCenter(78,28, 9);\n",
    "\n",
    "#//ADD REGION OF INTEREST\n",
    "roi =ee.Geometry.Polygon(\n",
    "        [[[68.72381366825171, 36.668322467407435],\n",
    "          [68.72381366825171, 9.535630411689576],\n",
    "          [96.49725116825171, 9.535630411689576],\n",
    "          [96.49725116825171, 36.668322467407435]]]);\n",
    "\n",
    "#// ADD DATA \n",
    "image = ee.ImageCollection(\"GLCF/GLS_WATER\");\n",
    "#// CLIP DATA TO ROI\n",
    "clip=image.mean().clip(roi);\n",
    "\n",
    "#// ADD COLOR PALETTE\n",
    "band = {\n",
    "  \n",
    "       'min': 1.0,\n",
    "       'max': 4.0,\n",
    "   'palette': ['FAFAFA', '00C5FF', 'DF73FF', '828282', 'CCCCCC']\n",
    "};\n",
    "\n",
    "#// ADD MAP TO CONSOLE\n",
    "Map.addLayer(clip, band, 'Inland Water Bodies Map of India ');"
   ]
  },
  {
   "cell_type": "code",
   "execution_count": 5,
   "metadata": {},
   "outputs": [
    {
     "data": {
      "application/vnd.jupyter.widget-view+json": {
       "model_id": "aac8e885fe8a404eb6e96891f91350d5",
       "version_major": 2,
       "version_minor": 0
      },
      "text/plain": [
       "Map(center=[28, 78], controls=(WidgetControl(options=['position', 'transparent_bg'], widget=HBox(children=(Tog…"
      ]
     },
     "metadata": {},
     "output_type": "display_data"
    }
   ],
   "source": [
    "Map.addLayerControl() \n",
    "Map"
   ]
  }
 ],
 "metadata": {
  "kernelspec": {
   "display_name": "Python 3",
   "language": "python",
   "name": "python3"
  },
  "language_info": {
   "codemirror_mode": {
    "name": "ipython",
    "version": 3
   },
   "file_extension": ".py",
   "mimetype": "text/x-python",
   "name": "python",
   "nbconvert_exporter": "python",
   "pygments_lexer": "ipython3",
   "version": "3.8.6"
  }
 },
 "nbformat": 4,
 "nbformat_minor": 4
}
