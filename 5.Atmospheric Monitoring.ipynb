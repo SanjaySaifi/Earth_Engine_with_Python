{
 "cells": [
  {
   "cell_type": "markdown",
   "id": "a4a2af39",
   "metadata": {},
   "source": [
    "#                                                Atmospheric Monitoring\n",
    "## 1.Sulphur Dioxide\n",
    "## 2.Nitrogen Dioxide\n",
    "## 3.UV Aerosol Index\n",
    "## 4.Carbon Monoxide\n",
    "## 5.Methane Concentration"
   ]
  },
  {
   "cell_type": "code",
   "execution_count": 1,
   "id": "ce78f331",
   "metadata": {},
   "outputs": [],
   "source": [
    "import ee"
   ]
  },
  {
   "cell_type": "code",
   "execution_count": 2,
   "id": "d5615e29",
   "metadata": {},
   "outputs": [],
   "source": [
    "import geemap"
   ]
  },
  {
   "cell_type": "code",
   "execution_count": 3,
   "id": "a5df5c17",
   "metadata": {},
   "outputs": [
    {
     "data": {
      "application/vnd.jupyter.widget-view+json": {
       "model_id": "ca9380f93e2f4537941521b6e4a3316d",
       "version_major": 2,
       "version_minor": 0
      },
      "text/plain": [
       "Map(center=[40, -100], controls=(WidgetControl(options=['position'], widget=HBox(children=(ToggleButton(value=…"
      ]
     },
     "metadata": {},
     "output_type": "display_data"
    }
   ],
   "source": [
    "Map=geemap.Map();\n",
    "Map"
   ]
  },
  {
   "cell_type": "code",
   "execution_count": 4,
   "id": "50202a87",
   "metadata": {},
   "outputs": [],
   "source": [
    "#set centre\n",
    "Map.setCenter(78,28,4);"
   ]
  },
  {
   "cell_type": "markdown",
   "id": "ac08bb41",
   "metadata": {},
   "source": [
    "## SULPHUR DIOXIDE"
   ]
  },
  {
   "cell_type": "code",
   "execution_count": 5,
   "id": "4201db25",
   "metadata": {},
   "outputs": [],
   "source": [
    "#data\n",
    "data=ee.ImageCollection(\"COPERNICUS/S5P/NRTI/L3_SO2\").select(\"SO2_column_number_density\").filterDate(\"2019-06-01\",\"2019-06-11\");"
   ]
  },
  {
   "cell_type": "code",
   "execution_count": 6,
   "id": "8f197841",
   "metadata": {},
   "outputs": [],
   "source": [
    "#shape\n",
    "#fiona\n",
    "#geopandas\n",
    "#PyShp\n",
    "\n",
    "\n",
    "shape=ee.FeatureCollection(\"users/ucanwhatsappme/India_Shapefile\");"
   ]
  },
  {
   "cell_type": "code",
   "execution_count": 7,
   "id": "0529e67f",
   "metadata": {},
   "outputs": [],
   "source": [
    "image=data.mean().clip(shape);"
   ]
  },
  {
   "cell_type": "code",
   "execution_count": 8,
   "id": "f667d78d",
   "metadata": {},
   "outputs": [],
   "source": [
    "display={\n",
    "    'min':0.0,\n",
    "    'max':0.005,\n",
    "    'palette':['black', 'blue', 'purple', 'cyan', 'green', 'yellow', 'red']\n",
    "};"
   ]
  },
  {
   "cell_type": "code",
   "execution_count": 9,
   "id": "3b0fea81",
   "metadata": {},
   "outputs": [
    {
     "data": {
      "application/vnd.jupyter.widget-view+json": {
       "model_id": "ca9380f93e2f4537941521b6e4a3316d",
       "version_major": 2,
       "version_minor": 0
      },
      "text/plain": [
       "Map(center=[28, 78], controls=(WidgetControl(options=['position'], widget=HBox(children=(ToggleButton(value=Fa…"
      ]
     },
     "metadata": {},
     "output_type": "display_data"
    }
   ],
   "source": [
    "Map.addLayer(image,display);\n",
    "Map"
   ]
  },
  {
   "cell_type": "markdown",
   "id": "3b7f6c94",
   "metadata": {},
   "source": [
    "## NITROGEN DIOXIDE"
   ]
  },
  {
   "cell_type": "code",
   "execution_count": 10,
   "id": "3fce9e68",
   "metadata": {},
   "outputs": [],
   "source": [
    "data2=ee.ImageCollection(\"COPERNICUS/S5P/OFFL/L3_NO2\").select('tropospheric_NO2_column_number_density').filterDate('2019-06-01','2019-06-06');"
   ]
  },
  {
   "cell_type": "code",
   "execution_count": 11,
   "id": "df796e98",
   "metadata": {},
   "outputs": [],
   "source": [
    "image2=data2.mean().clip(shape);"
   ]
  },
  {
   "cell_type": "code",
   "execution_count": 12,
   "id": "f11647a4",
   "metadata": {},
   "outputs": [],
   "source": [
    "display2={\n",
    "    'min':0,\n",
    "    'max':0.002,\n",
    "    'palette':[ 'black','blue', 'purple', 'cyan', 'green', 'yellow', 'red']\n",
    "};"
   ]
  },
  {
   "cell_type": "code",
   "execution_count": 16,
   "id": "e79de653",
   "metadata": {},
   "outputs": [
    {
     "data": {
      "application/vnd.jupyter.widget-view+json": {
       "model_id": "ca9380f93e2f4537941521b6e4a3316d",
       "version_major": 2,
       "version_minor": 0
      },
      "text/plain": [
       "Map(bottom=2016.0, center=[27.994401411046148, 77.95898437500001], controls=(WidgetControl(options=['position'…"
      ]
     },
     "metadata": {},
     "output_type": "display_data"
    }
   ],
   "source": [
    "Map.addLayer(image2,display2);\n",
    "Map"
   ]
  },
  {
   "cell_type": "markdown",
   "id": "6be78107",
   "metadata": {},
   "source": [
    "## Aerosol Index"
   ]
  },
  {
   "cell_type": "code",
   "execution_count": 17,
   "id": "004d2221",
   "metadata": {},
   "outputs": [],
   "source": [
    "data3=ee.ImageCollection(\"COPERNICUS/S5P/NRTI/L3_AER_AI\").select(\"absorbing_aerosol_index\").filterDate(\"2019-06-01\",\"2019-06-06\");"
   ]
  },
  {
   "cell_type": "code",
   "execution_count": 22,
   "id": "550b61a7",
   "metadata": {},
   "outputs": [],
   "source": [
    "image3=data3.mean().clip(shape);"
   ]
  },
  {
   "cell_type": "code",
   "execution_count": 23,
   "id": "37dcba2c",
   "metadata": {},
   "outputs": [],
   "source": [
    "display3={\n",
    "    'min':-1.0,\n",
    "    'max':2.0,\n",
    "    'palette':['black', 'blue', 'purple', 'cyan', 'green', 'yellow', 'red']\n",
    "};"
   ]
  },
  {
   "cell_type": "code",
   "execution_count": 24,
   "id": "11295687",
   "metadata": {},
   "outputs": [
    {
     "data": {
      "application/vnd.jupyter.widget-view+json": {
       "model_id": "ca9380f93e2f4537941521b6e4a3316d",
       "version_major": 2,
       "version_minor": 0
      },
      "text/plain": [
       "Map(bottom=2016.0, center=[27.994401411046148, 77.95898437500001], controls=(WidgetControl(options=['position'…"
      ]
     },
     "metadata": {},
     "output_type": "display_data"
    }
   ],
   "source": [
    "Map.addLayer(image3,display3);\n",
    "Map"
   ]
  },
  {
   "cell_type": "markdown",
   "id": "e4367874",
   "metadata": {},
   "source": [
    "# CARBON MONOXIDE"
   ]
  },
  {
   "cell_type": "code",
   "execution_count": 27,
   "id": "8b357d3e",
   "metadata": {},
   "outputs": [],
   "source": [
    "data4=ee.ImageCollection(\"COPERNICUS/S5P/OFFL/L3_CO\").select(\"CO_column_number_density\").filterDate(\"2019-06-01\",\"2019-06-11\");"
   ]
  },
  {
   "cell_type": "code",
   "execution_count": 30,
   "id": "e9eac55b",
   "metadata": {},
   "outputs": [],
   "source": [
    "image4=data4.mean().clip(shape);"
   ]
  },
  {
   "cell_type": "code",
   "execution_count": 31,
   "id": "4527cfba",
   "metadata": {},
   "outputs": [],
   "source": [
    "display4={\n",
    "    'min':0,\n",
    "    'max':0.05,\n",
    "    \"palette\":['black', 'blue', 'purple', 'cyan', 'green', 'yellow', 'red']\n",
    "};"
   ]
  },
  {
   "cell_type": "code",
   "execution_count": 33,
   "id": "bf710e48",
   "metadata": {},
   "outputs": [
    {
     "data": {
      "application/vnd.jupyter.widget-view+json": {
       "model_id": "ca9380f93e2f4537941521b6e4a3316d",
       "version_major": 2,
       "version_minor": 0
      },
      "text/plain": [
       "Map(bottom=2016.0, center=[27.994401411046148, 77.95898437500001], controls=(WidgetControl(options=['position'…"
      ]
     },
     "metadata": {},
     "output_type": "display_data"
    }
   ],
   "source": [
    "Map.addLayer(image4,display4);\n",
    "Map"
   ]
  },
  {
   "cell_type": "markdown",
   "id": "f978e5a8",
   "metadata": {},
   "source": [
    "# Methane concentration"
   ]
  },
  {
   "cell_type": "code",
   "execution_count": 35,
   "id": "d0dd4079",
   "metadata": {},
   "outputs": [],
   "source": [
    "data5=ee.ImageCollection(\"COPERNICUS/S5P/OFFL/L3_CH4\").select(\"CH4_column_volume_mixing_ratio_dry_air\").filterDate(\"2019-06-01\",\"2019-07-15\");"
   ]
  },
  {
   "cell_type": "code",
   "execution_count": 36,
   "id": "71ce61c9",
   "metadata": {},
   "outputs": [],
   "source": [
    "image5=data5.mean().clip(shape);"
   ]
  },
  {
   "cell_type": "code",
   "execution_count": 37,
   "id": "a723dbd9",
   "metadata": {},
   "outputs": [],
   "source": [
    "display5={\n",
    "    'min':1750,\n",
    "    'max':1900,\n",
    "    'palette':['black', 'blue', 'purple', 'cyan', 'green', 'yellow', 'red']\n",
    "};"
   ]
  },
  {
   "cell_type": "code",
   "execution_count": null,
   "id": "c99ae15b",
   "metadata": {},
   "outputs": [],
   "source": [
    "Map.addLayer(image5,display5);\n",
    "Map"
   ]
  },
  {
   "cell_type": "code",
   "execution_count": null,
   "id": "6a149573",
   "metadata": {},
   "outputs": [],
   "source": []
  },
  {
   "cell_type": "code",
   "execution_count": null,
   "id": "bed723e1",
   "metadata": {},
   "outputs": [],
   "source": []
  },
  {
   "cell_type": "code",
   "execution_count": null,
   "id": "4c0bd8e5",
   "metadata": {},
   "outputs": [],
   "source": []
  }
 ],
 "metadata": {
  "kernelspec": {
   "display_name": "Python 3",
   "language": "python",
   "name": "python3"
  },
  "language_info": {
   "codemirror_mode": {
    "name": "ipython",
    "version": 3
   },
   "file_extension": ".py",
   "mimetype": "text/x-python",
   "name": "python",
   "nbconvert_exporter": "python",
   "pygments_lexer": "ipython3",
   "version": "3.9.5"
  }
 },
 "nbformat": 4,
 "nbformat_minor": 5
}
