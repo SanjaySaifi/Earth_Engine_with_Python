{
 "cells": [
  {
   "cell_type": "code",
   "execution_count": 1,
   "metadata": {},
   "outputs": [
    {
     "name": "stdout",
     "output_type": "stream",
     "text": [
      "Collecting package metadata (current_repodata.json): ...working... done\n",
      "Note: you may need to restart the kernel to use updated packages.\n",
      "Solving environment: ...working... done\n",
      "\n",
      "# All requested packages already installed.\n",
      "\n",
      "\n"
     ]
    }
   ],
   "source": [
    "conda install -c conda-forge earthpy"
   ]
  },
  {
   "cell_type": "code",
   "execution_count": 2,
   "metadata": {},
   "outputs": [
    {
     "name": "stdout",
     "output_type": "stream",
     "text": [
      "Requirement already satisfied: pip in c:\\users\\usar\\anaconda3\\envs\\lab\\lib\\site-packages (20.3.3)Note: you may need to restart the kernel to use updated packages.\n",
      "Collecting pip\n",
      "  Downloading pip-21.1.1-py3-none-any.whl (1.5 MB)\n",
      "Installing collected packages: pip\n",
      "  Attempting uninstall: pip\n",
      "    Found existing installation: pip 20.3.3\n",
      "\n",
      "    Uninstalling pip-20.3.3:\n",
      "      Successfully uninstalled pip-20.3.3\n",
      "Successfully installed pip-21.1.1\n"
     ]
    }
   ],
   "source": [
    "pip install -U pip"
   ]
  },
  {
   "cell_type": "code",
   "execution_count": null,
   "metadata": {},
   "outputs": [],
   "source": [
    "pip install GDAL-1.11.2-cp27-none-win32.whl\n"
   ]
  },
  {
   "cell_type": "code",
   "execution_count": null,
   "metadata": {},
   "outputs": [],
   "source": [
    "pip install rasterio-0.24.0-cp27-none-win32.whl"
   ]
  },
  {
   "cell_type": "code",
   "execution_count": null,
   "metadata": {},
   "outputs": [],
   "source": []
  },
  {
   "cell_type": "code",
   "execution_count": null,
   "metadata": {},
   "outputs": [],
   "source": [
    "# Get sample data from EarthPy and setting your home working directory\n",
    "\n",
    "data_path = et.data.get_data(\"vignette-landsat\")\n",
    "os.chdir(os.path.join(et.io.HOME, \"earth-analytics\"))\n",
    "\n",
    "# Prepare the landsat bands to be stacked using glob and sort\n",
    "\n",
    "landsat_bands_data_path = \"data/vignette-landsat/LC08_L1TP_034032_20160621_20170221_01_T1_sr_band*[2-4]*_crop.tif\"\n",
    "stack_band_paths = glob(landsat_bands_data_path)\n",
    "stack_band_paths.sort()\n",
    "\n",
    "# Create output directory and the output path\n",
    "\n",
    "output_dir = os.path.join(\"data\", \"outputs\")\n",
    "if os.path.isdir(output_dir) == False:\n",
    "    os.mkdir(output_dir)\n",
    "\n",
    "raster_out_path = os.path.join(output_dir, \"raster.tiff\")"
   ]
  },
  {
   "cell_type": "code",
   "execution_count": 3,
   "metadata": {},
   "outputs": [
    {
     "name": "stdout",
     "output_type": "stream",
     "text": [
      "Requirement already satisfied: geemap in c:\\users\\usar\\anaconda3\\envs\\lab\\lib\\site-packages (0.8.8)Note: you may need to restart the kernel to use updated packages.\n",
      "Requirement already satisfied: colour in c:\\users\\usar\\anaconda3\\envs\\lab\\lib\\site-packages (from geemap) (0.1.5)\n",
      "Requirement already satisfied: geeadd>=0.5.1 in c:\\users\\usar\\anaconda3\\envs\\lab\\lib\\site-packages (from geemap) (0.5.3)\n",
      "Requirement already satisfied: pyshp in c:\\users\\usar\\anaconda3\\envs\\lab\\lib\\site-packages (from geemap) (2.1.3)\n",
      "\n",
      "Requirement already satisfied: pillow in c:\\users\\usar\\anaconda3\\envs\\lab\\lib\\site-packages (from geemap) (8.1.0)\n",
      "Requirement already satisfied: ipynb-py-convert in c:\\users\\usar\\anaconda3\\envs\\lab\\lib\\site-packages (from geemap) (0.4.6)\n",
      "Requirement already satisfied: ffmpeg-python in c:\\users\\usar\\anaconda3\\envs\\lab\\lib\\site-packages (from geemap) (0.2.0)\n",
      "Requirement already satisfied: ipyfilechooser in c:\\users\\usar\\anaconda3\\envs\\lab\\lib\\site-packages (from geemap) (0.4.1)\n",
      "Requirement already satisfied: pycrs in c:\\users\\usar\\anaconda3\\envs\\lab\\lib\\site-packages (from geemap) (1.0.2)\n",
      "Requirement already satisfied: mss in c:\\users\\usar\\anaconda3\\envs\\lab\\lib\\site-packages (from geemap) (6.1.0)\n",
      "Requirement already satisfied: ipyleaflet>=0.13.3 in c:\\users\\usar\\anaconda3\\envs\\lab\\lib\\site-packages (from geemap) (0.13.6)\n",
      "Requirement already satisfied: bqplot in c:\\users\\usar\\anaconda3\\envs\\lab\\lib\\site-packages (from geemap) (0.12.21)\n",
      "Requirement already satisfied: folium>=0.11.0 in c:\\users\\usar\\anaconda3\\envs\\lab\\lib\\site-packages (from geemap) (0.12.0)\n",
      "Requirement already satisfied: voila in c:\\users\\usar\\anaconda3\\envs\\lab\\lib\\site-packages (from geemap) (0.2.6)\n",
      "Requirement already satisfied: matplotlib in c:\\users\\usar\\anaconda3\\envs\\lab\\lib\\site-packages (from geemap) (3.3.4)\n",
      "Requirement already satisfied: ipytree in c:\\users\\usar\\anaconda3\\envs\\lab\\lib\\site-packages (from geemap) (0.1.8)\n",
      "Requirement already satisfied: whitebox in c:\\users\\usar\\anaconda3\\envs\\lab\\lib\\site-packages (from geemap) (1.4.0)\n",
      "Requirement already satisfied: numpy in c:\\users\\usar\\anaconda3\\envs\\lab\\lib\\site-packages (from geemap) (1.19.5)\n",
      "Requirement already satisfied: ipyevents in c:\\users\\usar\\anaconda3\\envs\\lab\\lib\\site-packages (from geemap) (0.8.1)\n",
      "Requirement already satisfied: pandas in c:\\users\\usar\\anaconda3\\envs\\lab\\lib\\site-packages (from geemap) (1.2.1)\n",
      "Requirement already satisfied: click in c:\\users\\usar\\anaconda3\\envs\\lab\\lib\\site-packages (from geemap) (7.1.2)\n",
      "Requirement already satisfied: earthengine-api>=0.1.230 in c:\\users\\usar\\anaconda3\\envs\\lab\\lib\\site-packages (from geemap) (0.1.249)\n",
      "Requirement already satisfied: geocoder in c:\\users\\usar\\anaconda3\\envs\\lab\\lib\\site-packages (from geemap) (1.38.1)\n",
      "Requirement already satisfied: google-auth-httplib2>=0.0.3 in c:\\users\\usar\\anaconda3\\envs\\lab\\lib\\site-packages (from earthengine-api>=0.1.230->geemap) (0.0.4)\n",
      "Requirement already satisfied: google-api-python-client>=1.12.1 in c:\\users\\usar\\anaconda3\\envs\\lab\\lib\\site-packages (from earthengine-api>=0.1.230->geemap) (1.12.8)\n",
      "Requirement already satisfied: httplib2<1dev,>=0.9.2 in c:\\users\\usar\\anaconda3\\envs\\lab\\lib\\site-packages (from earthengine-api>=0.1.230->geemap) (0.18.1)\n",
      "Requirement already satisfied: six in c:\\users\\usar\\anaconda3\\envs\\lab\\lib\\site-packages (from earthengine-api>=0.1.230->geemap) (1.15.0)\n",
      "Requirement already satisfied: google-auth>=1.4.1 in c:\\users\\usar\\anaconda3\\envs\\lab\\lib\\site-packages (from earthengine-api>=0.1.230->geemap) (1.21.3)\n",
      "Requirement already satisfied: httplib2shim in c:\\users\\usar\\anaconda3\\envs\\lab\\lib\\site-packages (from earthengine-api>=0.1.230->geemap) (0.0.3)\n",
      "Requirement already satisfied: future in c:\\users\\usar\\anaconda3\\envs\\lab\\lib\\site-packages (from earthengine-api>=0.1.230->geemap) (0.18.2)\n",
      "Requirement already satisfied: google-cloud-storage in c:\\users\\usar\\anaconda3\\envs\\lab\\lib\\site-packages (from earthengine-api>=0.1.230->geemap) (1.35.0)\n",
      "Requirement already satisfied: requests in c:\\users\\usar\\anaconda3\\envs\\lab\\lib\\site-packages (from folium>=0.11.0->geemap) (2.25.1)\n",
      "Requirement already satisfied: branca>=0.3.0 in c:\\users\\usar\\anaconda3\\envs\\lab\\lib\\site-packages (from folium>=0.11.0->geemap) (0.4.2)\n",
      "Requirement already satisfied: jinja2>=2.9 in c:\\users\\usar\\anaconda3\\envs\\lab\\lib\\site-packages (from folium>=0.11.0->geemap) (2.11.2)\n",
      "Requirement already satisfied: beautifulsoup4>=4.9.0 in c:\\users\\usar\\anaconda3\\envs\\lab\\lib\\site-packages (from geeadd>=0.5.1->geemap) (4.9.3)\n",
      "Requirement already satisfied: logzero>=1.5.0 in c:\\users\\usar\\anaconda3\\envs\\lab\\lib\\site-packages (from geeadd>=0.5.1->geemap) (1.6.3)\n",
      "Requirement already satisfied: soupsieve>1.2 in c:\\users\\usar\\anaconda3\\envs\\lab\\lib\\site-packages (from beautifulsoup4>=4.9.0->geeadd>=0.5.1->geemap) (2.1)\n",
      "Requirement already satisfied: uritemplate<4dev,>=3.0.0 in c:\\users\\usar\\anaconda3\\envs\\lab\\lib\\site-packages (from google-api-python-client>=1.12.1->earthengine-api>=0.1.230->geemap) (3.0.1)\n",
      "Requirement already satisfied: google-api-core<2dev,>=1.21.0 in c:\\users\\usar\\anaconda3\\envs\\lab\\lib\\site-packages (from google-api-python-client>=1.12.1->earthengine-api>=0.1.230->geemap) (1.25.1)\n",
      "Requirement already satisfied: protobuf>=3.12.0 in c:\\users\\usar\\anaconda3\\envs\\lab\\lib\\site-packages (from google-api-core<2dev,>=1.21.0->google-api-python-client>=1.12.1->earthengine-api>=0.1.230->geemap) (3.14.0)\n",
      "Requirement already satisfied: googleapis-common-protos<2.0dev,>=1.6.0 in c:\\users\\usar\\anaconda3\\envs\\lab\\lib\\site-packages (from google-api-core<2dev,>=1.21.0->google-api-python-client>=1.12.1->earthengine-api>=0.1.230->geemap) (1.52.0)\n",
      "Requirement already satisfied: setuptools>=40.3.0 in c:\\users\\usar\\anaconda3\\envs\\lab\\lib\\site-packages (from google-api-core<2dev,>=1.21.0->google-api-python-client>=1.12.1->earthengine-api>=0.1.230->geemap) (53.0.0)\n",
      "Requirement already satisfied: pytz in c:\\users\\usar\\anaconda3\\envs\\lab\\lib\\site-packages (from google-api-core<2dev,>=1.21.0->google-api-python-client>=1.12.1->earthengine-api>=0.1.230->geemap) (2020.5)\n",
      "Requirement already satisfied: cachetools<5.0,>=2.0.0 in c:\\users\\usar\\anaconda3\\envs\\lab\\lib\\site-packages (from google-auth>=1.4.1->earthengine-api>=0.1.230->geemap) (4.2.1)\n",
      "Requirement already satisfied: rsa<5,>=3.1.4 in c:\\users\\usar\\anaconda3\\envs\\lab\\lib\\site-packages (from google-auth>=1.4.1->earthengine-api>=0.1.230->geemap) (4.7)\n",
      "Requirement already satisfied: pyasn1-modules>=0.2.1 in c:\\users\\usar\\anaconda3\\envs\\lab\\lib\\site-packages (from google-auth>=1.4.1->earthengine-api>=0.1.230->geemap) (0.2.8)\n",
      "Requirement already satisfied: ipywidgets<8,>=7.6.0 in c:\\users\\usar\\anaconda3\\envs\\lab\\lib\\site-packages (from ipyleaflet>=0.13.3->geemap) (7.6.3)\n",
      "Requirement already satisfied: shapely in c:\\users\\usar\\anaconda3\\envs\\lab\\lib\\site-packages (from ipyleaflet>=0.13.3->geemap) (1.7.1)\n",
      "Requirement already satisfied: traittypes<3,>=0.2.1 in c:\\users\\usar\\anaconda3\\envs\\lab\\lib\\site-packages (from ipyleaflet>=0.13.3->geemap) (0.2.1)\n",
      "Requirement already satisfied: ipython>=4.0.0 in c:\\users\\usar\\anaconda3\\envs\\lab\\lib\\site-packages (from ipywidgets<8,>=7.6.0->ipyleaflet>=0.13.3->geemap) (7.19.0)\n",
      "Requirement already satisfied: traitlets>=4.3.1 in c:\\users\\usar\\anaconda3\\envs\\lab\\lib\\site-packages (from ipywidgets<8,>=7.6.0->ipyleaflet>=0.13.3->geemap) (5.0.5)\n",
      "Requirement already satisfied: ipykernel>=4.5.1 in c:\\users\\usar\\anaconda3\\envs\\lab\\lib\\site-packages (from ipywidgets<8,>=7.6.0->ipyleaflet>=0.13.3->geemap) (5.4.2)\n",
      "Requirement already satisfied: nbformat>=4.2.0 in c:\\users\\usar\\anaconda3\\envs\\lab\\lib\\site-packages (from ipywidgets<8,>=7.6.0->ipyleaflet>=0.13.3->geemap) (5.0.8)\n",
      "Requirement already satisfied: jupyterlab-widgets>=1.0.0 in c:\\users\\usar\\anaconda3\\envs\\lab\\lib\\site-packages (from ipywidgets<8,>=7.6.0->ipyleaflet>=0.13.3->geemap) (1.0.0)\n",
      "Requirement already satisfied: widgetsnbextension~=3.5.0 in c:\\users\\usar\\anaconda3\\envs\\lab\\lib\\site-packages (from ipywidgets<8,>=7.6.0->ipyleaflet>=0.13.3->geemap) (3.5.1)\n",
      "Requirement already satisfied: jupyter-client in c:\\users\\usar\\anaconda3\\envs\\lab\\lib\\site-packages (from ipykernel>=4.5.1->ipywidgets<8,>=7.6.0->ipyleaflet>=0.13.3->geemap) (6.1.7)\n",
      "Requirement already satisfied: tornado>=4.2 in c:\\users\\usar\\anaconda3\\envs\\lab\\lib\\site-packages (from ipykernel>=4.5.1->ipywidgets<8,>=7.6.0->ipyleaflet>=0.13.3->geemap) (6.1)\n",
      "Requirement already satisfied: prompt-toolkit!=3.0.0,!=3.0.1,<3.1.0,>=2.0.0 in c:\\users\\usar\\anaconda3\\envs\\lab\\lib\\site-packages (from ipython>=4.0.0->ipywidgets<8,>=7.6.0->ipyleaflet>=0.13.3->geemap) (3.0.9)\n",
      "Requirement already satisfied: backcall in c:\\users\\usar\\anaconda3\\envs\\lab\\lib\\site-packages (from ipython>=4.0.0->ipywidgets<8,>=7.6.0->ipyleaflet>=0.13.3->geemap) (0.2.0)\n",
      "Requirement already satisfied: decorator in c:\\users\\usar\\anaconda3\\envs\\lab\\lib\\site-packages (from ipython>=4.0.0->ipywidgets<8,>=7.6.0->ipyleaflet>=0.13.3->geemap) (4.4.2)\n",
      "Requirement already satisfied: colorama in c:\\users\\usar\\anaconda3\\envs\\lab\\lib\\site-packages (from ipython>=4.0.0->ipywidgets<8,>=7.6.0->ipyleaflet>=0.13.3->geemap) (0.4.4)\n",
      "Requirement already satisfied: pickleshare in c:\\users\\usar\\anaconda3\\envs\\lab\\lib\\site-packages (from ipython>=4.0.0->ipywidgets<8,>=7.6.0->ipyleaflet>=0.13.3->geemap) (0.7.5)\n",
      "Requirement already satisfied: jedi>=0.10 in c:\\users\\usar\\anaconda3\\envs\\lab\\lib\\site-packages (from ipython>=4.0.0->ipywidgets<8,>=7.6.0->ipyleaflet>=0.13.3->geemap) (0.17.2)\n",
      "Requirement already satisfied: pygments in c:\\users\\usar\\anaconda3\\envs\\lab\\lib\\site-packages (from ipython>=4.0.0->ipywidgets<8,>=7.6.0->ipyleaflet>=0.13.3->geemap) (2.7.3)\n",
      "Requirement already satisfied: parso<0.8.0,>=0.7.0 in c:\\users\\usar\\anaconda3\\envs\\lab\\lib\\site-packages (from jedi>=0.10->ipython>=4.0.0->ipywidgets<8,>=7.6.0->ipyleaflet>=0.13.3->geemap) (0.7.0)\n",
      "Requirement already satisfied: MarkupSafe>=0.23 in c:\\users\\usar\\anaconda3\\envs\\lab\\lib\\site-packages (from jinja2>=2.9->folium>=0.11.0->geemap) (1.1.1)\n",
      "Requirement already satisfied: jsonschema!=2.5.0,>=2.4 in c:\\users\\usar\\anaconda3\\envs\\lab\\lib\\site-packages (from nbformat>=4.2.0->ipywidgets<8,>=7.6.0->ipyleaflet>=0.13.3->geemap) (3.2.0)\n",
      "Requirement already satisfied: ipython-genutils in c:\\users\\usar\\anaconda3\\envs\\lab\\lib\\site-packages (from nbformat>=4.2.0->ipywidgets<8,>=7.6.0->ipyleaflet>=0.13.3->geemap) (0.2.0)\n",
      "Requirement already satisfied: jupyter-core in c:\\users\\usar\\anaconda3\\envs\\lab\\lib\\site-packages (from nbformat>=4.2.0->ipywidgets<8,>=7.6.0->ipyleaflet>=0.13.3->geemap) (4.7.0)\n",
      "Requirement already satisfied: pyrsistent>=0.14.0 in c:\\users\\usar\\anaconda3\\envs\\lab\\lib\\site-packages (from jsonschema!=2.5.0,>=2.4->nbformat>=4.2.0->ipywidgets<8,>=7.6.0->ipyleaflet>=0.13.3->geemap) (0.17.3)\n",
      "Requirement already satisfied: attrs>=17.4.0 in c:\\users\\usar\\anaconda3\\envs\\lab\\lib\\site-packages (from jsonschema!=2.5.0,>=2.4->nbformat>=4.2.0->ipywidgets<8,>=7.6.0->ipyleaflet>=0.13.3->geemap) (20.3.0)\n",
      "Requirement already satisfied: wcwidth in c:\\users\\usar\\anaconda3\\envs\\lab\\lib\\site-packages (from prompt-toolkit!=3.0.0,!=3.0.1,<3.1.0,>=2.0.0->ipython>=4.0.0->ipywidgets<8,>=7.6.0->ipyleaflet>=0.13.3->geemap) (0.2.5)\n",
      "Requirement already satisfied: pyasn1<0.5.0,>=0.4.6 in c:\\users\\usar\\anaconda3\\envs\\lab\\lib\\site-packages (from pyasn1-modules>=0.2.1->google-auth>=1.4.1->earthengine-api>=0.1.230->geemap) (0.4.8)\n",
      "Requirement already satisfied: chardet<5,>=3.0.2 in c:\\users\\usar\\anaconda3\\envs\\lab\\lib\\site-packages (from requests->folium>=0.11.0->geemap) (4.0.0)\n",
      "Requirement already satisfied: urllib3<1.27,>=1.21.1 in c:\\users\\usar\\anaconda3\\envs\\lab\\lib\\site-packages (from requests->folium>=0.11.0->geemap) (1.26.2)\n",
      "Requirement already satisfied: certifi>=2017.4.17 in c:\\users\\usar\\anaconda3\\envs\\lab\\lib\\site-packages (from requests->folium>=0.11.0->geemap) (2020.12.5)\n",
      "Requirement already satisfied: idna<3,>=2.5 in c:\\users\\usar\\anaconda3\\envs\\lab\\lib\\site-packages (from requests->folium>=0.11.0->geemap) (2.10)\n",
      "Requirement already satisfied: notebook>=4.4.1 in c:\\users\\usar\\anaconda3\\envs\\lab\\lib\\site-packages (from widgetsnbextension~=3.5.0->ipywidgets<8,>=7.6.0->ipyleaflet>=0.13.3->geemap) (6.1.6)\n",
      "Requirement already satisfied: pyzmq>=17 in c:\\users\\usar\\anaconda3\\envs\\lab\\lib\\site-packages (from notebook>=4.4.1->widgetsnbextension~=3.5.0->ipywidgets<8,>=7.6.0->ipyleaflet>=0.13.3->geemap) (20.0.0)\n",
      "Requirement already satisfied: argon2-cffi in c:\\users\\usar\\anaconda3\\envs\\lab\\lib\\site-packages (from notebook>=4.4.1->widgetsnbextension~=3.5.0->ipywidgets<8,>=7.6.0->ipyleaflet>=0.13.3->geemap) (20.1.0)\n",
      "Requirement already satisfied: Send2Trash in c:\\users\\usar\\anaconda3\\envs\\lab\\lib\\site-packages (from notebook>=4.4.1->widgetsnbextension~=3.5.0->ipywidgets<8,>=7.6.0->ipyleaflet>=0.13.3->geemap) (1.5.0)\n",
      "Requirement already satisfied: terminado>=0.8.3 in c:\\users\\usar\\anaconda3\\envs\\lab\\lib\\site-packages (from notebook>=4.4.1->widgetsnbextension~=3.5.0->ipywidgets<8,>=7.6.0->ipyleaflet>=0.13.3->geemap) (0.9.2)\n",
      "Requirement already satisfied: prometheus-client in c:\\users\\usar\\anaconda3\\envs\\lab\\lib\\site-packages (from notebook>=4.4.1->widgetsnbextension~=3.5.0->ipywidgets<8,>=7.6.0->ipyleaflet>=0.13.3->geemap) (0.9.0)\n",
      "Requirement already satisfied: nbconvert in c:\\users\\usar\\anaconda3\\envs\\lab\\lib\\site-packages (from notebook>=4.4.1->widgetsnbextension~=3.5.0->ipywidgets<8,>=7.6.0->ipyleaflet>=0.13.3->geemap) (6.0.7)\n",
      "Requirement already satisfied: python-dateutil>=2.1 in c:\\users\\usar\\anaconda3\\envs\\lab\\lib\\site-packages (from jupyter-client->ipykernel>=4.5.1->ipywidgets<8,>=7.6.0->ipyleaflet>=0.13.3->geemap) (2.8.1)\n",
      "Requirement already satisfied: pywin32>=1.0 in c:\\users\\usar\\anaconda3\\envs\\lab\\lib\\site-packages (from jupyter-core->nbformat>=4.2.0->ipywidgets<8,>=7.6.0->ipyleaflet>=0.13.3->geemap) (228)\n",
      "Requirement already satisfied: pywinpty>=0.5 in c:\\users\\usar\\anaconda3\\envs\\lab\\lib\\site-packages (from terminado>=0.8.3->notebook>=4.4.1->widgetsnbextension~=3.5.0->ipywidgets<8,>=7.6.0->ipyleaflet>=0.13.3->geemap) (0.5.7)\n",
      "Requirement already satisfied: cffi>=1.0.0 in c:\\users\\usar\\anaconda3\\envs\\lab\\lib\\site-packages (from argon2-cffi->notebook>=4.4.1->widgetsnbextension~=3.5.0->ipywidgets<8,>=7.6.0->ipyleaflet>=0.13.3->geemap) (1.14.4)\n",
      "Requirement already satisfied: pycparser in c:\\users\\usar\\anaconda3\\envs\\lab\\lib\\site-packages (from cffi>=1.0.0->argon2-cffi->notebook>=4.4.1->widgetsnbextension~=3.5.0->ipywidgets<8,>=7.6.0->ipyleaflet>=0.13.3->geemap) (2.20)\n",
      "Requirement already satisfied: ratelim in c:\\users\\usar\\anaconda3\\envs\\lab\\lib\\site-packages (from geocoder->geemap) (0.1.6)\n",
      "Requirement already satisfied: google-cloud-core<2.0dev,>=1.4.1 in c:\\users\\usar\\anaconda3\\envs\\lab\\lib\\site-packages (from google-cloud-storage->earthengine-api>=0.1.230->geemap) (1.5.0)\n",
      "Requirement already satisfied: google-resumable-media<2.0dev,>=1.2.0 in c:\\users\\usar\\anaconda3\\envs\\lab\\lib\\site-packages (from google-cloud-storage->earthengine-api>=0.1.230->geemap) (1.2.0)\n",
      "Requirement already satisfied: google-crc32c<2.0dev,>=1.0 in c:\\users\\usar\\anaconda3\\envs\\lab\\lib\\site-packages (from google-resumable-media<2.0dev,>=1.2.0->google-cloud-storage->earthengine-api>=0.1.230->geemap) (1.1.2)\n",
      "Requirement already satisfied: cycler>=0.10 in c:\\users\\usar\\anaconda3\\envs\\lab\\lib\\site-packages (from matplotlib->geemap) (0.10.0)\n",
      "Requirement already satisfied: kiwisolver>=1.0.1 in c:\\users\\usar\\anaconda3\\envs\\lab\\lib\\site-packages (from matplotlib->geemap) (1.3.1)\n",
      "Requirement already satisfied: pyparsing!=2.0.4,!=2.1.2,!=2.1.6,>=2.0.3 in c:\\users\\usar\\anaconda3\\envs\\lab\\lib\\site-packages (from matplotlib->geemap) (2.4.7)\n",
      "Requirement already satisfied: nbclient<0.6.0,>=0.5.0 in c:\\users\\usar\\anaconda3\\envs\\lab\\lib\\site-packages (from nbconvert->notebook>=4.4.1->widgetsnbextension~=3.5.0->ipywidgets<8,>=7.6.0->ipyleaflet>=0.13.3->geemap) (0.5.1)\n",
      "Requirement already satisfied: testpath in c:\\users\\usar\\anaconda3\\envs\\lab\\lib\\site-packages (from nbconvert->notebook>=4.4.1->widgetsnbextension~=3.5.0->ipywidgets<8,>=7.6.0->ipyleaflet>=0.13.3->geemap) (0.4.4)\n",
      "Requirement already satisfied: pandocfilters>=1.4.1 in c:\\users\\usar\\anaconda3\\envs\\lab\\lib\\site-packages (from nbconvert->notebook>=4.4.1->widgetsnbextension~=3.5.0->ipywidgets<8,>=7.6.0->ipyleaflet>=0.13.3->geemap) (1.4.2)\n",
      "Requirement already satisfied: defusedxml in c:\\users\\usar\\anaconda3\\envs\\lab\\lib\\site-packages (from nbconvert->notebook>=4.4.1->widgetsnbextension~=3.5.0->ipywidgets<8,>=7.6.0->ipyleaflet>=0.13.3->geemap) (0.6.0)\n",
      "Requirement already satisfied: bleach in c:\\users\\usar\\anaconda3\\envs\\lab\\lib\\site-packages (from nbconvert->notebook>=4.4.1->widgetsnbextension~=3.5.0->ipywidgets<8,>=7.6.0->ipyleaflet>=0.13.3->geemap) (3.2.1)\n",
      "Requirement already satisfied: mistune<2,>=0.8.1 in c:\\users\\usar\\anaconda3\\envs\\lab\\lib\\site-packages (from nbconvert->notebook>=4.4.1->widgetsnbextension~=3.5.0->ipywidgets<8,>=7.6.0->ipyleaflet>=0.13.3->geemap) (0.8.4)\n",
      "Requirement already satisfied: jupyterlab-pygments in c:\\users\\usar\\anaconda3\\envs\\lab\\lib\\site-packages (from nbconvert->notebook>=4.4.1->widgetsnbextension~=3.5.0->ipywidgets<8,>=7.6.0->ipyleaflet>=0.13.3->geemap) (0.1.2)\n",
      "Requirement already satisfied: entrypoints>=0.2.2 in c:\\users\\usar\\anaconda3\\envs\\lab\\lib\\site-packages (from nbconvert->notebook>=4.4.1->widgetsnbextension~=3.5.0->ipywidgets<8,>=7.6.0->ipyleaflet>=0.13.3->geemap) (0.3)\n",
      "Requirement already satisfied: nest-asyncio in c:\\users\\usar\\anaconda3\\envs\\lab\\lib\\site-packages (from nbclient<0.6.0,>=0.5.0->nbconvert->notebook>=4.4.1->widgetsnbextension~=3.5.0->ipywidgets<8,>=7.6.0->ipyleaflet>=0.13.3->geemap) (1.4.3)\n",
      "Requirement already satisfied: async-generator in c:\\users\\usar\\anaconda3\\envs\\lab\\lib\\site-packages (from nbclient<0.6.0,>=0.5.0->nbconvert->notebook>=4.4.1->widgetsnbextension~=3.5.0->ipywidgets<8,>=7.6.0->ipyleaflet>=0.13.3->geemap) (1.10)\n",
      "Requirement already satisfied: packaging in c:\\users\\usar\\anaconda3\\envs\\lab\\lib\\site-packages (from bleach->nbconvert->notebook>=4.4.1->widgetsnbextension~=3.5.0->ipywidgets<8,>=7.6.0->ipyleaflet>=0.13.3->geemap) (20.8)\n",
      "Requirement already satisfied: webencodings in c:\\users\\usar\\anaconda3\\envs\\lab\\lib\\site-packages (from bleach->nbconvert->notebook>=4.4.1->widgetsnbextension~=3.5.0->ipywidgets<8,>=7.6.0->ipyleaflet>=0.13.3->geemap) (0.5.1)\n",
      "Requirement already satisfied: jupyter-server<2.0.0,>=0.3.0 in c:\\users\\usar\\anaconda3\\envs\\lab\\lib\\site-packages (from voila->geemap) (1.1.4)\n",
      "Requirement already satisfied: anyio>=2.0.2 in c:\\users\\usar\\anaconda3\\envs\\lab\\lib\\site-packages (from jupyter-server<2.0.0,>=0.3.0->voila->geemap) (2.0.2)\n",
      "Requirement already satisfied: sniffio>=1.1 in c:\\users\\usar\\anaconda3\\envs\\lab\\lib\\site-packages (from anyio>=2.0.2->jupyter-server<2.0.0,>=0.3.0->voila->geemap) (1.2.0)\n"
     ]
    }
   ],
   "source": [
    "pip install geemap"
   ]
  },
  {
   "cell_type": "code",
   "execution_count": null,
   "metadata": {},
   "outputs": [],
   "source": [
    "import ee\n",
    "import geemap"
   ]
  },
  {
   "cell_type": "markdown",
   "metadata": {},
   "source": [
    "# Creating Interactive map"
   ]
  },
  {
   "cell_type": "code",
   "execution_count": 5,
   "metadata": {},
   "outputs": [
    {
     "data": {
      "application/vnd.jupyter.widget-view+json": {
       "model_id": "f6006b076b2947758ee57b9074e17472",
       "version_major": 2,
       "version_minor": 0
      },
      "text/plain": [
       "Map(center=[40, -100], controls=(WidgetControl(options=['position', 'transparent_bg'], widget=HBox(children=(T…"
      ]
     },
     "metadata": {},
     "output_type": "display_data"
    }
   ],
   "source": [
    "Map = geemap.Map()\n",
    "Map"
   ]
  },
  {
   "cell_type": "markdown",
   "metadata": {},
   "source": [
    "# Load LANDSAT data"
   ]
  },
  {
   "cell_type": "code",
   "execution_count": 30,
   "metadata": {},
   "outputs": [],
   "source": [
    "point = ee.Geometry.Point([78, 28.7538])\n",
    "\n",
    "\n",
    "image = ee.ImageCollection('LANDSAT/LC08/C01/T1_SR').filterBounds(point).filterDate('2019-01-01', '2019-12-31').sort('CLOUD_COVER').first().select('B[1-7]')\n",
    "\n",
    "band = {\n",
    "    'min': 0,\n",
    "    'max': 3000,\n",
    "    'bands': ['B5', 'B4', 'B3']\n",
    "}\n",
    "\n",
    "Map.centerObject(point, 8)\n",
    "Map.addLayer(image, band, \"Landsat-8\")"
   ]
  },
  {
   "cell_type": "code",
   "execution_count": 10,
   "metadata": {},
   "outputs": [
    {
     "data": {
      "application/vnd.jupyter.widget-view+json": {
       "model_id": "f6006b076b2947758ee57b9074e17472",
       "version_major": 2,
       "version_minor": 0
      },
      "text/plain": [
       "Map(bottom=27599.0, center=[28.753799999999995, 78], controls=(WidgetControl(options=['position', 'transparent…"
      ]
     },
     "metadata": {},
     "output_type": "display_data"
    }
   ],
   "source": [
    "Map.addLayerControl() \n",
    "Map"
   ]
  },
  {
   "cell_type": "markdown",
   "metadata": {},
   "source": [
    "# View image properties"
   ]
  },
  {
   "cell_type": "code",
   "execution_count": 31,
   "metadata": {},
   "outputs": [
    {
     "data": {
      "text/plain": [
       "'2019-04-28'"
      ]
     },
     "execution_count": 31,
     "metadata": {},
     "output_type": "execute_result"
    }
   ],
   "source": [
    "ee.Date(image.get('system:time_start')).format('YYYY-MM-dd').getInfo()"
   ]
  },
  {
   "cell_type": "code",
   "execution_count": 32,
   "metadata": {},
   "outputs": [
    {
     "data": {
      "text/plain": [
       "0"
      ]
     },
     "execution_count": 32,
     "metadata": {},
     "output_type": "execute_result"
    }
   ],
   "source": [
    "\n",
    "image.get('CLOUD_COVER').getInfo()"
   ]
  },
  {
   "cell_type": "markdown",
   "metadata": {},
   "source": [
    "# Add region of interest"
   ]
  },
  {
   "cell_type": "code",
   "execution_count": 33,
   "metadata": {},
   "outputs": [],
   "source": [
    "region = Map.user_roi\n",
    "region = ee.Geometry.Rectangle([77.3836429942414, 28.72257092202146, 77.58002360947577, 28.597849875883103])\n",
    "region = ee.Geometry.Point([-122.4439, 37.7538]).buffer(10000)\n"
   ]
  },
  {
   "cell_type": "markdown",
   "metadata": {},
   "source": [
    "# Add labels using Copernicus Global Land Cover Layers: CGLS-LC100 collection 3"
   ]
  },
  {
   "cell_type": "code",
   "execution_count": 45,
   "metadata": {},
   "outputs": [
    {
     "data": {
      "application/vnd.jupyter.widget-view+json": {
       "model_id": "f6006b076b2947758ee57b9074e17472",
       "version_major": 2,
       "version_minor": 0
      },
      "text/plain": [
       "Map(bottom=55044.0, center=[28.4, 78.0], controls=(WidgetControl(options=['position', 'transparent_bg'], widge…"
      ]
     },
     "metadata": {},
     "output_type": "display_data"
    }
   ],
   "source": [
    "train = ee.Image(\"COPERNICUS/Landcover/100m/Proba-V-C3/Global/2019\").select('discrete_classification').clip(image.geometry())\n",
    "Map.addLayer(train, {}, \"Land Cover\")\n",
    "Map.setCenter(78.0, 28.4, 10)\n",
    "Map\n"
   ]
  },
  {
   "cell_type": "code",
   "execution_count": 47,
   "metadata": {},
   "outputs": [],
   "source": [
    "# Make the training dataset.\n",
    "points = train.sample(**{\n",
    "    'region': image.geometry(),\n",
    "    'scale': 30,\n",
    "    'numPixels': 5000,\n",
    "    'seed': 0,\n",
    "    'geometries': True  # Set this to False to ignore geometries\n",
    "})\n",
    "\n",
    "Map.addLayer(points, {}, 'training', False)"
   ]
  },
  {
   "cell_type": "code",
   "execution_count": 48,
   "metadata": {},
   "outputs": [
    {
     "name": "stdout",
     "output_type": "stream",
     "text": [
      "5000\n"
     ]
    }
   ],
   "source": [
    "\n",
    "print(points.size().getInfo())"
   ]
  },
  {
   "cell_type": "code",
   "execution_count": 49,
   "metadata": {},
   "outputs": [
    {
     "name": "stdout",
     "output_type": "stream",
     "text": [
      "{'type': 'Feature', 'geometry': {'type': 'Point', 'coordinates': [78.5156026010813, 28.45671896942989]}, 'id': '0', 'properties': {'discrete_classification': 40}}\n"
     ]
    }
   ],
   "source": [
    "\n",
    "print(points.first().getInfo())"
   ]
  },
  {
   "cell_type": "markdown",
   "metadata": {},
   "source": [
    "# Train the classifier"
   ]
  },
  {
   "cell_type": "code",
   "execution_count": 54,
   "metadata": {},
   "outputs": [],
   "source": [
    "# Use these bands for prediction.\n",
    "bands = ['B1', 'B2', 'B3', 'B4', 'B5', 'B6', 'B7']\n",
    "\n",
    "\n",
    "# This property of the table stores the land cover labels.\n",
    "label = 'discrete_classification'\n",
    "\n",
    "# Overlay the points on the imagery to get training.\n",
    "training = image.select(bands).sampleRegions(**{\n",
    "  'collection': points,\n",
    "  'properties': ['discrete_classification'],\n",
    "  'scale': 30\n",
    "})\n",
    "\n",
    "# Train a CART classifier with default parameters.\n",
    "trained = ee.Classifier.smileCart().train(training, label, bands)"
   ]
  },
  {
   "cell_type": "code",
   "execution_count": 55,
   "metadata": {},
   "outputs": [
    {
     "name": "stdout",
     "output_type": "stream",
     "text": [
      "{'type': 'Feature', 'geometry': None, 'id': '0_0', 'properties': {'B1': 869, 'B2': 1050, 'B3': 1583, 'B4': 2001, 'B5': 2890, 'B6': 3643, 'B7': 3379, 'discrete_classification': 40}}\n"
     ]
    }
   ],
   "source": [
    "print(training.first().getInfo())"
   ]
  },
  {
   "cell_type": "markdown",
   "metadata": {},
   "source": [
    "# Classify the image"
   ]
  },
  {
   "cell_type": "code",
   "execution_count": 65,
   "metadata": {},
   "outputs": [
    {
     "data": {
      "application/vnd.jupyter.widget-view+json": {
       "model_id": "f6006b076b2947758ee57b9074e17472",
       "version_major": 2,
       "version_minor": 0
      },
      "text/plain": [
       "Map(bottom=871522.0, center=[29.105676541588767, 77.75436401367189], controls=(WidgetControl(options=['positio…"
      ]
     },
     "metadata": {},
     "output_type": "display_data"
    }
   ],
   "source": [
    "\n",
    "\n",
    "# Classify the image with the same bands used for training.\n",
    "result = image.select(bands).classify(trained)\n",
    "\n",
    "\n",
    "Map.addLayer(result.randomVisualizer(), {}, 'classfied')\n",
    "Map"
   ]
  },
  {
   "cell_type": "code",
   "execution_count": null,
   "metadata": {},
   "outputs": [],
   "source": []
  }
 ],
 "metadata": {
  "kernelspec": {
   "display_name": "Python 3",
   "language": "python",
   "name": "python3"
  },
  "language_info": {
   "codemirror_mode": {
    "name": "ipython",
    "version": 3
   },
   "file_extension": ".py",
   "mimetype": "text/x-python",
   "name": "python",
   "nbconvert_exporter": "python",
   "pygments_lexer": "ipython3",
   "version": "3.8.6"
  }
 },
 "nbformat": 4,
 "nbformat_minor": 4
}
