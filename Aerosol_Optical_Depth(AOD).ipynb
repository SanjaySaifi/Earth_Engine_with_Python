{
 "cells": [
  {
   "cell_type": "markdown",
   "metadata": {},
   "source": [
    "# Aerosol Optical Depth over India\n",
    "\n"
   ]
  },
  {
   "cell_type": "code",
   "execution_count": null,
   "metadata": {},
   "outputs": [],
   "source": [
    "import ee\n",
    "import geemap"
   ]
  },
  {
   "cell_type": "code",
   "execution_count": 2,
   "metadata": {},
   "outputs": [
    {
     "data": {
      "application/vnd.jupyter.widget-view+json": {
       "model_id": "5d77663d9da442cca014a9658f757d4b",
       "version_major": 2,
       "version_minor": 0
      },
      "text/plain": [
       "Map(center=[40, -100], controls=(WidgetControl(options=['position', 'transparent_bg'], widget=HBox(children=(T…"
      ]
     },
     "metadata": {},
     "output_type": "display_data"
    }
   ],
   "source": [
    "Map = geemap.Map()\n",
    "Map"
   ]
  },
  {
   "cell_type": "code",
   "execution_count": 7,
   "metadata": {},
   "outputs": [],
   "source": [
    "#//add map centre\n",
    "Map.setCenter(77, 28, 4);\n",
    "#//add region of interest\n",
    "roi =ee.Geometry.Polygon(\n",
    "        [[[59.402645607468386, 36.721247854081604],\n",
    "          [59.402645607468386, 6.293426486681035],\n",
    "          [100.18389560746839, 6.293426486681035],\n",
    "          [100.18389560746839, 36.721247854081604]]]);\n",
    "#// add dataset\n",
    "dataset = ee.ImageCollection('ECMWF/CAMS/NRT').filter(ee.Filter.date('2021-03-01', '2021-04-01')).select('total_aerosol_optical_depth_at_550nm_surface');\n",
    "#//Clip dataset to region of interest\n",
    "clip=dataset.mean().clip(roi)\n",
    "#//add palette colors                 \n",
    "band = {\n",
    "  'min': 0.000096,\n",
    "  'max': 3.582552,\n",
    "  'palette': [\n",
    "    \"5E4FA2\",\n",
    "    \"3288BD\",\n",
    "    \"66C2A5\",\n",
    "    \"ABE0A4\",\n",
    "    \"E6F598\",\n",
    "    \"FFFFBF\",\n",
    "    \"FEE08B\",\n",
    "    \"FDAE61\",\n",
    "    \"F46D43\",\n",
    "    \"D53E4F\",\n",
    "    \"9E0142\"\n",
    "  ]};\n",
    "\n",
    "#//add LST map to console\n",
    "Map.addLayer(\n",
    "    clip, band,\n",
    "    'Land Surface Temperature(LST)');\n"
   ]
  },
  {
   "cell_type": "code",
   "execution_count": 8,
   "metadata": {},
   "outputs": [
    {
     "data": {
      "application/vnd.jupyter.widget-view+json": {
       "model_id": "5d77663d9da442cca014a9658f757d4b",
       "version_major": 2,
       "version_minor": 0
      },
      "text/plain": [
       "Map(bottom=2016.0, center=[28, 77], controls=(WidgetControl(options=['position', 'transparent_bg'], widget=HBo…"
      ]
     },
     "metadata": {},
     "output_type": "display_data"
    }
   ],
   "source": [
    "Map.addLayerControl() \n",
    "Map"
   ]
  },
  {
   "cell_type": "code",
   "execution_count": null,
   "metadata": {},
   "outputs": [],
   "source": []
  }
 ],
 "metadata": {
  "kernelspec": {
   "display_name": "Python 3",
   "language": "python",
   "name": "python3"
  },
  "language_info": {
   "codemirror_mode": {
    "name": "ipython",
    "version": 3
   },
   "file_extension": ".py",
   "mimetype": "text/x-python",
   "name": "python",
   "nbconvert_exporter": "python",
   "pygments_lexer": "ipython3",
   "version": "3.8.6"
  }
 },
 "nbformat": 4,
 "nbformat_minor": 4
}
