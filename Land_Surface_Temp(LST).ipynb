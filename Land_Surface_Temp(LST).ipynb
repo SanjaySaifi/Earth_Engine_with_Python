{
 "cells": [
  {
   "cell_type": "code",
   "execution_count": 10,
   "metadata": {},
   "outputs": [],
   "source": [
    "import ee\n",
    "import geemap"
   ]
  },
  {
   "cell_type": "code",
   "execution_count": 12,
   "metadata": {},
   "outputs": [
    {
     "data": {
      "application/vnd.jupyter.widget-view+json": {
       "model_id": "cb98dac640834432808ba4900a743628",
       "version_major": 2,
       "version_minor": 0
      },
      "text/plain": [
       "Map(center=[40, -100], controls=(WidgetControl(options=['position', 'transparent_bg'], widget=HBox(children=(T…"
      ]
     },
     "metadata": {},
     "output_type": "display_data"
    }
   ],
   "source": [
    "Map = geemap.Map()\n",
    "Map"
   ]
  },
  {
   "cell_type": "code",
   "execution_count": 17,
   "metadata": {},
   "outputs": [],
   "source": [
    "#//add map centre\n",
    "Map.setCenter(77, 28, 4);\n",
    "#//add region of interest\n",
    "roi =ee.Geometry.Polygon(\n",
    "        [[[59.402645607468386, 36.721247854081604],\n",
    "          [59.402645607468386, 6.293426486681035],\n",
    "          [100.18389560746839, 6.293426486681035],\n",
    "          [100.18389560746839, 36.721247854081604]]]);\n",
    "#// add dataset\n",
    "dataset = ee.ImageCollection('MODIS/006/MYD11A1').filter(ee.Filter.date('2021-01-01', '2021-04-30')).select('LST_Day_1km');\n",
    "#//Clip dataset to region of interest\n",
    "clip=dataset.mean().clip(roi)\n",
    "#//add palette colors                 \n",
    "band = {\n",
    "  'min': 13000.0,\n",
    "  'max': 16500.0,\n",
    "  'palette': [\n",
    "    '#00007b','#0e50f6', '05fce0', '1cfe07', 'f2fc03', '#feaf11', '#f46f28','#fe4709',],};\n",
    "\n",
    "#//add LST map to console\n",
    "Map.addLayer(\n",
    "    clip, band,\n",
    "    'Land Surface Temperature(LST)');\n"
   ]
  },
  {
   "cell_type": "code",
   "execution_count": 18,
   "metadata": {},
   "outputs": [
    {
     "data": {
      "application/vnd.jupyter.widget-view+json": {
       "model_id": "cb98dac640834432808ba4900a743628",
       "version_major": 2,
       "version_minor": 0
      },
      "text/plain": [
       "Map(bottom=2016.0, center=[28, 77], controls=(WidgetControl(options=['position', 'transparent_bg'], widget=HBo…"
      ]
     },
     "metadata": {},
     "output_type": "display_data"
    }
   ],
   "source": [
    "Map.addLayerControl() \n",
    "Map"
   ]
  },
  {
   "cell_type": "code",
   "execution_count": null,
   "metadata": {},
   "outputs": [],
   "source": []
  }
 ],
 "metadata": {
  "kernelspec": {
   "display_name": "Python 3",
   "language": "python",
   "name": "python3"
  },
  "language_info": {
   "codemirror_mode": {
    "name": "ipython",
    "version": 3
   },
   "file_extension": ".py",
   "mimetype": "text/x-python",
   "name": "python",
   "nbconvert_exporter": "python",
   "pygments_lexer": "ipython3",
   "version": "3.8.6"
  }
 },
 "nbformat": 4,
 "nbformat_minor": 4
}
