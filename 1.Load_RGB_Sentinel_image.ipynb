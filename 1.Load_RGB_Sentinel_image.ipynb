{
 "cells": [
  {
   "cell_type": "code",
   "execution_count": 9,
   "metadata": {},
   "outputs": [],
   "source": [
    "#install library ee\n",
    "pip install ee"
   ]
  },
  {
   "cell_type": "code",
   "execution_count": 10,
   "metadata": {},
   "outputs": [],
   "source": [
    "#install library geemap\n",
    "pip install geemap"
   ]
  },
  {
   "cell_type": "code",
   "execution_count": 1,
   "metadata": {},
   "outputs": [],
   "source": [
    "#importing libraries\n",
    "import ee\n",
    "import geemap"
   ]
  },
  {
   "cell_type": "code",
   "execution_count": 2,
   "metadata": {},
   "outputs": [
    {
     "data": {
      "application/vnd.jupyter.widget-view+json": {
       "model_id": "e14a965e30514a69ac195f2758ce70b3",
       "version_major": 2,
       "version_minor": 0
      },
      "text/plain": [
       "Map(center=[40, -100], controls=(WidgetControl(options=['position'], widget=HBox(children=(ToggleButton(value=…"
      ]
     },
     "metadata": {},
     "output_type": "display_data"
    }
   ],
   "source": [
    "#make map varibale and print map onto console\n",
    "Map=geemap.Map()\n",
    "Map"
   ]
  },
  {
   "cell_type": "code",
   "execution_count": 4,
   "metadata": {},
   "outputs": [],
   "source": [
    "#BAND READING OF SENTINEL DATA AND TRUE COLOR COMPOSITE VISUALISATION\n",
    "#Navigate to area of interest\n",
    "Map.setCenter(77.6,28.5, 9);\n"
   ]
  },
  {
   "cell_type": "code",
   "execution_count": 5,
   "metadata": {},
   "outputs": [],
   "source": [
    "\n",
    "#Set target location \n",
    "poly = ee.Geometry.Point(77.6,28.5);\n",
    "\n",
    "\n",
    "\n"
   ]
  },
  {
   "cell_type": "code",
   "execution_count": 6,
   "metadata": {},
   "outputs": [],
   "source": [
    " \n",
    "#Load the Sentinel 2 image collection by searching Sentinel in search bar\n",
    "sent2 =ee.ImageCollection(\"COPERNICUS/S2\").filterBounds(poly);\n",
    "\n",
    "\n",
    "\n",
    "#Restrict the data collection to get the required image\n",
    "image = ee.Image(sent2\n",
    "\n",
    "#We will then include a filter to get only images in the date range we are interested in\n",
    ".filterDate(\"2019-01-01\", \"2019-12-31\")\n",
    "\n",
    "#Sort the collection by meta data, as here cloud coverage is used\n",
    ".sort(\"CLOUD_COVERAGE_ASSESSMENT\")\n",
    "\n",
    "#First image of sorted collection is used\n",
    ".first());\n",
    "\n",
    "\n"
   ]
  },
  {
   "cell_type": "code",
   "execution_count": 7,
   "metadata": {},
   "outputs": [],
   "source": [
    "\n",
    "#for false color composite,Band_8=NIR, band_4=Red, band_3=Green,\n",
    "display = {\n",
    "    'bands': [\"B4\", \"B3\", \"B2\"],\n",
    "    'min': 0,\n",
    "    'max': 3000\n",
    "    };\n",
    "\n"
   ]
  },
  {
   "cell_type": "code",
   "execution_count": 8,
   "metadata": {},
   "outputs": [
    {
     "data": {
      "application/vnd.jupyter.widget-view+json": {
       "model_id": "e14a965e30514a69ac195f2758ce70b3",
       "version_major": 2,
       "version_minor": 0
      },
      "text/plain": [
       "Map(bottom=2009.0, center=[28.5, 77.6], controls=(WidgetControl(options=['position'], widget=HBox(children=(To…"
      ]
     },
     "metadata": {},
     "output_type": "display_data"
    }
   ],
   "source": [
    "\n",
    "#Add true color image to map console\n",
    "Map.addLayer(image, display, \"FALSE COLOR COMPOSITE IMAGE\");\n",
    "\n",
    "#Generate map onto console\n",
    "Map\n"
   ]
  },
  {
   "cell_type": "code",
   "execution_count": null,
   "metadata": {},
   "outputs": [],
   "source": []
  },
  {
   "cell_type": "code",
   "execution_count": null,
   "metadata": {},
   "outputs": [],
   "source": []
  }
 ],
 "metadata": {
  "kernelspec": {
   "display_name": "Python 3",
   "language": "python",
   "name": "python3"
  },
  "language_info": {
   "codemirror_mode": {
    "name": "ipython",
    "version": 3
   },
   "file_extension": ".py",
   "mimetype": "text/x-python",
   "name": "python",
   "nbconvert_exporter": "python",
   "pygments_lexer": "ipython3",
   "version": "3.9.5"
  }
 },
 "nbformat": 4,
 "nbformat_minor": 4
}
